{
 "cells": [
  {
   "cell_type": "markdown",
   "metadata": {
    "slideshow": {
     "slide_type": "slide"
    }
   },
   "source": [
    "### ST445 Managing and Visualizing Data\n",
    "# Classes in python\n",
    "### Week 4 lab, MT 2021\n"
   ]
  },
  {
   "cell_type": "markdown",
   "metadata": {
    "slideshow": {
     "slide_type": "slide"
    }
   },
   "source": [
    "# Classes (in python)\n",
    "(see _https://docs.python.org/3/tutorial/classes.html_)\n",
    "\n",
    "* This will make it easier to use pandas (and other libraries). (e.g. `df.function()` or `function(df)`?)\n",
    "\n",
    "* objects have attributes: `z.data = 42` (writeable)\n",
    "\n",
    "* attributes can be functions `z.func()`\n",
    "\n",
    "* func will be aware of the other attributes of `z`! (everything is public in python)"
   ]
  },
  {
   "cell_type": "code",
   "execution_count": 1,
   "metadata": {
    "slideshow": {
     "slide_type": "slide"
    }
   },
   "outputs": [],
   "source": [
    "class MyClass:\n",
    "    \"\"\"A simple example class\"\"\"\n",
    "    i = 12345\n",
    "\n",
    "    def f(self): #what does self mean?\n",
    "        return 'hello world!'\n",
    "    \n",
    "    \n",
    "x = MyClass()\n",
    "print('a) ', x)\n",
    "print('b) ', x.i)\n",
    "print('assign something to x.i ...')\n",
    "x.i = 42\n",
    "print('c) ', x.i)\n",
    "print('what is f?')\n",
    "print('d) ', x.f)\n",
    "print('what does f do?')\n",
    "print('e) ', x.f())"
   ]
  },
  {
   "cell_type": "code",
   "execution_count": 2,
   "metadata": {
    "slideshow": {
     "slide_type": "slide"
    }
   },
   "outputs": [],
   "source": [
    "class NewClass:\n",
    "    def __init__(self):\n",
    "#    def f(self):\n",
    "        self.data = []\n",
    "    \n",
    "class DifferentClass:\n",
    "    def __init__(self,a):\n",
    "        self.data = a\n",
    "\n",
    "    def f(self, addstring):\n",
    "        return 'hello world! '+ addstring + ' ' + self.data\n",
    "    \n",
    "y = NewClass(); print('a) ', y.data);\n",
    "x = DifferentClass('fish'); print('b) ', x.data)\n",
    "print('c) ', x.f('cat'))\n",
    "# member functions are aware of the object's attributes!"
   ]
  },
  {
   "cell_type": "code",
   "execution_count": 3,
   "metadata": {
    "slideshow": {
     "slide_type": "slide"
    }
   },
   "outputs": [],
   "source": [
    "class Dog: # partially stolen from the documentation\n",
    "\n",
    "    kind = 'canine'         # class variable shared by all instances\n",
    "    tricks =[]              # mutable object! don't do this!\n",
    "\n",
    "    def __init__(self, name):\n",
    "        self.name = name    # instance variable unique to each instance\n",
    "        \n",
    "    def changeKind(self, newKind):\n",
    "        self.kind = newKind\n",
    "        \n",
    "    def learnTrick(self, newTrick):\n",
    "        self.tricks.append(newTrick)\n",
    "        \n",
    "d = Dog('Fido')\n",
    "e = Dog('Buddy')\n",
    "\n",
    "print('a)')\n",
    "print(d.kind); print(e.kind); print(d.name); print(e.name)\n",
    "\n",
    "print('b)')\n",
    "d.changeKind('cerdocyonina'); print(d.kind); print(e.kind)\n",
    "\n",
    "d.learnTrick('sit'); e.learnTrick('roll over'); print(d.tricks); print(e.tricks)"
   ]
  },
  {
   "cell_type": "markdown",
   "metadata": {
    "slideshow": {
     "slide_type": "slide"
    }
   },
   "source": [
    "## Inheritance in Python"
   ]
  },
  {
   "cell_type": "code",
   "execution_count": 4,
   "metadata": {
    "slideshow": {
     "slide_type": "fragment"
    }
   },
   "outputs": [],
   "source": [
    "class Person: \n",
    "       \n",
    "    # Constructor \n",
    "    def __init__(self, first_name, last_name): \n",
    "        self.name = first_name + ' ' + last_name \n",
    "   \n",
    "    # To get name \n",
    "    def getName(self): \n",
    "        return self.name \n",
    "   \n",
    "    # To check if this person is student\n",
    "    def isStudent(self): \n",
    "        return False\n",
    "   \n",
    "   \n",
    "# Inherited or Sub class (Note Person in bracket) \n",
    "class Student(Person): \n",
    "               \n",
    "    # Here we return true \n",
    "    def isStudent(self): \n",
    "        return True\n",
    "    \n",
    "one = Person('Chengchun', 'Shi')  # An Object of Person \n",
    "print(one.getName(), one.isStudent()) \n",
    "   \n",
    "another = Student('Your_first_name', 'Your_last_name') # An Object of Student \n",
    "print(another.getName(), another.isStudent()) "
   ]
  },
  {
   "cell_type": "markdown",
   "metadata": {
    "slideshow": {
     "slide_type": "slide"
    }
   },
   "source": [
    "#### An example: write a Python program to get all possible unique subsets from a set of distinct integers."
   ]
  },
  {
   "cell_type": "code",
   "execution_count": 5,
   "metadata": {
    "slideshow": {
     "slide_type": "fragment"
    }
   },
   "outputs": [],
   "source": [
    "class py_solution:\n",
    "    def sub_sets(self, sset):\n",
    "        return self.subsetsRecur([], sorted(sset))\n",
    "    \n",
    "    def subsetsRecur(self, current, sset):\n",
    "        if sset:\n",
    "            return self.subsetsRecur(current, sset[1:]) + self.subsetsRecur(current + [sset[0]], sset[1:])\n",
    "        return [current]\n",
    "\n",
    "print(py_solution().sub_sets([4,5,6]))"
   ]
  },
  {
   "cell_type": "markdown",
   "metadata": {
    "slideshow": {
     "slide_type": "slide"
    }
   },
   "source": [
    "#### Pictorial Presentation:\n",
    "\n",
    "<img src=\"figs/pysolution.PNG\" width=600>"
   ]
  },
  {
   "cell_type": "markdown",
   "metadata": {
    "slideshow": {
     "slide_type": "slide"
    }
   },
   "source": [
    "#### Exercise: Define a class called `BankAccount`. It shall have two functions, `withdraw` and `deposit`. Both functions have the same argument `amount`. Each function shall give a numerical output the shows the current balance. "
   ]
  },
  {
   "cell_type": "markdown",
   "metadata": {
    "slideshow": {
     "slide_type": "slide"
    }
   },
   "source": [
    "For instance, \n",
    "\n",
    "`>>> a = BankAccount()`\n",
    "\n",
    "`>>> a.deposit(100)`\n",
    "\n",
    "`100.0`\n",
    "\n",
    "`>>> a.withdraw(10)`\n",
    "\n",
    "`90.0`"
   ]
  },
  {
   "cell_type": "code",
   "execution_count": 6,
   "metadata": {
    "slideshow": {
     "slide_type": "fragment"
    }
   },
   "outputs": [],
   "source": [
    "class BankAccount:\n",
    "    def __init__(self):\n",
    "        self.balance = 0\n",
    "#    balance = 0\n",
    "        \n",
    "    def deposit(self, amount):\n",
    "        self.balance += float(amount)\n",
    "#        self.balance = self.balance + amount\n",
    "        return (self.balance)\n",
    "        \n",
    "    def withdraw(self, amount):\n",
    "        self.balance -= float(amount)\n",
    "        return (self.balance)\n",
    "        \n",
    "a = BankAccount()\n",
    "print(a.deposit(100))\n",
    "print(a.withdraw(10))"
   ]
  },
  {
   "cell_type": "markdown",
   "metadata": {
    "slideshow": {
     "slide_type": "slide"
    }
   },
   "source": [
    "#### Exercise: Define another class called `PositiveBalanceBankAccount` as a child class of `BankAccount`. It shall have an additional argument `balance` in the `__init__` method. Moreover, it cannot withdraw money more than the current balance. "
   ]
  },
  {
   "cell_type": "markdown",
   "metadata": {
    "slideshow": {
     "slide_type": "slide"
    }
   },
   "source": [
    "For instance, \n",
    "\n",
    "`>>> a = PositiveBalanceBankAccount(50)`\n",
    "\n",
    "`>>> a.deposit(100)`\n",
    "\n",
    "`150`\n",
    "\n",
    "`>>> a.withdraw(200)`\n",
    "\n",
    "`'Sorry, you cannot withdraw money more than your current balance.'`"
   ]
  },
  {
   "cell_type": "code",
   "execution_count": 7,
   "metadata": {
    "slideshow": {
     "slide_type": "fragment"
    }
   },
   "outputs": [
    {
     "name": "stdout",
     "output_type": "stream",
     "text": [
      "150.0\n",
      "Sorry, you cannot withdraw money more than your current balance.\n"
     ]
    }
   ],
   "source": [
    "class PositiveBalanceBankAccount(BankAccount):\n",
    "    def __init__(self, balance):\n",
    "        self.balance = balance\n",
    "    \n",
    "    def withdraw(self, amount):\n",
    "        if (self.balance < amount):\n",
    "            return ('Sorry, you cannot withdraw money more than your current balance.')\n",
    "        else:\n",
    "            self.balance -= float(amount)\n",
    "            return (self.balance)\n",
    "        \n",
    "a = PositiveBalanceBankAccount(50)\n",
    "print(a.deposit(100))\n",
    "print(a.withdraw(200))"
   ]
  },
  {
   "cell_type": "markdown",
   "metadata": {
    "slideshow": {
     "slide_type": "slide"
    }
   },
   "source": [
    "#### Exercise: Define a class `Song` that shows the lyrics of the song using the `sing_me_a_song` method"
   ]
  },
  {
   "cell_type": "markdown",
   "metadata": {
    "slideshow": {
     "slide_type": "slide"
    }
   },
   "source": [
    "For instance, \n",
    "\n",
    "`>>> HB = Song(['Happy Birthday to you!', 'Happy Birthday to you!', 'Happy Birthday Happy Birthday', 'Happy Birthday to you!'])`\n",
    "\n",
    "`>>> HB.sing_me_a_song()`\n",
    "\n",
    "`'Happy Birthday to you!'`\n",
    "\n",
    "`'Happy Birthday to you!'`\n",
    "\n",
    "`'Happy Birthday Happy Birthday'`\n",
    "\n",
    "`'Happy Birthday to you!'`"
   ]
  },
  {
   "cell_type": "code",
   "execution_count": 8,
   "metadata": {
    "slideshow": {
     "slide_type": "fragment"
    }
   },
   "outputs": [
    {
     "name": "stdout",
     "output_type": "stream",
     "text": [
      "Happy Birthday to you!\n",
      "Happy Birthday to you!\n",
      "Happy Birthday Happy Birthday\n",
      "Happy Birthday to you!\n"
     ]
    }
   ],
   "source": [
    "class Song:\n",
    "    def __init__(self, lyrics):\n",
    "          self.lyrics=lyrics\n",
    "            \n",
    "    def sing_me_a_song(self):\n",
    "        for line in self.lyrics:\n",
    "            print (line)\n",
    "            \n",
    "HB = Song(['Happy Birthday to you!', 'Happy Birthday to you!', 'Happy Birthday Happy Birthday', 'Happy Birthday to you!'])\n",
    "HB.sing_me_a_song()"
   ]
  },
  {
   "cell_type": "markdown",
   "metadata": {
    "slideshow": {
     "slide_type": "slide"
    }
   },
   "source": [
    "#### Exercise: Define a class `Draw` with an initial argument `char` that can be an arbitary character. It shall have a `draw_char` method with an argument `n` that can output the following.\n",
    "\n",
    "#### Hint 1: Take a look at the class material on week 2\n",
    "\n",
    "#### Hint 2: `range(a, b, c)` generates a list starting from `a` to `a+kc` for some `k` such that `a+kc<b`, with stepsize `c`\n",
    "\n",
    "#### Hint 3: You might consider using `chain` function from the `itertools` to concatenate two lists"
   ]
  },
  {
   "cell_type": "markdown",
   "metadata": {
    "slideshow": {
     "slide_type": "fragment"
    }
   },
   "source": [
    "`>>> DrawStar = Draw('*')`\n",
    "\n",
    "`>>> DrawStar.draw_char(3)`\n",
    "\n",
    "\n",
    "```\n",
    "  *\n",
    " ***\n",
    "*****\n",
    " ***\n",
    "  *\n",
    "```\n",
    "\n",
    "`>>> DrawStar.draw_char(2)`\n",
    "```\n",
    " *\n",
    "***\n",
    " *\n",
    "```\n",
    "\n",
    "`>>> DrawStar.draw_char(1)`\n",
    "```\n",
    "*\n",
    "```\n",
    "\n",
    "`>>> DrawStar = Draw('+')`\n",
    "\n",
    "`>>> DrawStar.draw_char(4)`\n",
    "\n",
    "\n",
    "```\n",
    "   +\n",
    "  +++\n",
    " +++++\n",
    "+++++++\n",
    " +++++\n",
    "  +++\n",
    "   +\n",
    "```"
   ]
  },
  {
   "cell_type": "code",
   "execution_count": 9,
   "metadata": {
    "slideshow": {
     "slide_type": "slide"
    }
   },
   "outputs": [
    {
     "name": "stdout",
     "output_type": "stream",
     "text": [
      "   +\n",
      "  +++\n",
      " +++++\n",
      "+++++++\n",
      " +++++\n",
      "  +++\n",
      "   +\n"
     ]
    }
   ],
   "source": [
    "from itertools import chain\n",
    "class Draw:\n",
    "    def __init__(self, char):\n",
    "        self.char = char\n",
    "    \n",
    "    def draw_char(self, n):\n",
    "        list1 = chain(range(n-1,0,-1), range(n))\n",
    "        list2 = chain(range(1,2*n,2), range(2*n-3,0,-2))\n",
    "        for i1,i2 in zip(list1,list2):\n",
    "            for j in range(i1):\n",
    "                print(' ', end='')\n",
    "            for j in range(i2):\n",
    "                print(self.char, end='')\n",
    "            print('\\n', end='')\n",
    "            \n",
    "DrawPlus = Draw('+')\n",
    "DrawPlus.draw_char(4)"
   ]
  }
 ],
 "metadata": {
  "celltoolbar": "Slideshow",
  "kernelspec": {
   "display_name": "Python 3 (ipykernel)",
   "language": "python",
   "name": "python3"
  },
  "language_info": {
   "codemirror_mode": {
    "name": "ipython",
    "version": 3
   },
   "file_extension": ".py",
   "mimetype": "text/x-python",
   "name": "python",
   "nbconvert_exporter": "python",
   "pygments_lexer": "ipython3",
   "version": "3.8.12"
  }
 },
 "nbformat": 4,
 "nbformat_minor": 2
}
