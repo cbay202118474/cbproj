{
 "cells": [
  {
   "cell_type": "code",
   "execution_count": null,
   "id": "059cad5a",
   "metadata": {},
   "outputs": [],
   "source": [
    "import os\n",
    "from time import sleep\n",
    "from selenium import webdriver\n",
    "from selenium.webdriver.common.keys import Keys\n",
    "from selenium.webdriver.common.by import By\n",
    "import selenium.webdriver.support.expected_conditions as EC"
   ]
  },
  {
   "cell_type": "code",
   "execution_count": null,
   "id": "faa84836",
   "metadata": {},
   "outputs": [],
   "source": [
    "def notify(title, text):\n",
    "    os.system(\"\"\"\n",
    "              osascript -e 'display notification \"{}\" with title \"{}\" sound name \"Submarine\" as warning'\n",
    "              \"\"\".format(text, title))"
   ]
  },
  {
   "cell_type": "code",
   "execution_count": null,
   "id": "ea55b597",
   "metadata": {},
   "outputs": [],
   "source": [
    "pw = '_'\n",
    "un = '_'\n",
    "cont_loop = 1\n",
    "text=''\n",
    "\n",
    "driver = webdriver.Chrome()\n",
    "from selenium.webdriver.support.ui import WebDriverWait\n",
    "driver.get(\"https://cfcexchange.pvxgateway.com/login/\") \n",
    "wait = WebDriverWait(driver, 5, poll_frequency=1)\n",
    "\n",
    "\n",
    "elem = driver.find_element_by_name(\"customerUsername\")\n",
    "elem.clear()\n",
    "elem.send_keys(un)\n",
    "\n",
    "pas = driver.find_element_by_name(\"customerPassword\")\n",
    "pas.clear()\n",
    "pas.send_keys(pw)\n",
    "pas.send_keys(Keys.RETURN)\n",
    "\n",
    "while cont_loop == 1:\n",
    "    sleep(3)\n",
    "    driver.find_element(By.LINK_TEXT, \"FIND TICKETS\").click()\n",
    "    try:\n",
    "        alert = wait.until(EC.alert_is_present())\n",
    "        text = alert.text\n",
    "        sleep(2)\n",
    "        alert.accept()\n",
    "        sleep(100) #wait time before refresh\n",
    "        driver.refresh()\n",
    "    except:\n",
    "        ticket_elements = driver.find_elements(By.CLASS_NAME, \"offerRow\")\n",
    "        for i in ticket_elements:\n",
    "            tictext = i.text.replace(\"\\n\", \" \")\n",
    "            if 'SENIOR' or 'ADULT' in tictext:\n",
    "                notify(\"Ticket available\", tictext)\n",
    "        sleep(100) #wait time before refresh\n",
    "        driver.back()"
   ]
  }
 ],
 "metadata": {
  "kernelspec": {
   "display_name": "Python 3 (ipykernel)",
   "language": "python",
   "name": "python3"
  },
  "language_info": {
   "codemirror_mode": {
    "name": "ipython",
    "version": 3
   },
   "file_extension": ".py",
   "mimetype": "text/x-python",
   "name": "python",
   "nbconvert_exporter": "python",
   "pygments_lexer": "ipython3",
   "version": "3.8.12"
  }
 },
 "nbformat": 4,
 "nbformat_minor": 5
}
